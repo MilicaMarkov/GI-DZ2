{
 "cells": [
  {
   "cell_type": "code",
   "execution_count": 2,
   "metadata": {},
   "outputs": [
    {
     "name": "stdout",
     "output_type": "stream",
     "text": [
      "Collecting pysam\n",
      "  Downloading pysam-0.16.0.1-cp38-cp38-manylinux1_x86_64.whl (10.2 MB)\n",
      "\u001b[K     |████████████████████████████████| 10.2 MB 16.4 MB/s eta 0:00:01\n",
      "\u001b[?25hInstalling collected packages: pysam\n",
      "Successfully installed pysam-0.16.0.1\n",
      "Note: you may need to restart the kernel to use updated packages.\n"
     ]
    }
   ],
   "source": [
    "pip install pysam"
   ]
  },
  {
   "cell_type": "code",
   "execution_count": 30,
   "metadata": {},
   "outputs": [],
   "source": [
    "import pysam\n",
    "\n",
    "alignment_file = pysam.AlignmentFile(\"/sbgenomics/project-files/merged-tumor.bam\")"
   ]
  },
  {
   "cell_type": "code",
   "execution_count": 22,
   "metadata": {},
   "outputs": [
    {
     "name": "stdout",
     "output_type": "stream",
     "text": [
      "First read:\n",
      "C0HVYACXX120402:7:1207:5722:57044\t1187\t20\t9483248\t27\t76M\t20\t9483381\t76\tTTTTCAAACAGTATCTATGCCTGCCAAATGTGAACATATAAAAAAAAACCAGAATGTGCCATTCTGATTTAAACTG\tarray('B', [28, 28, 27, 29, 31, 30, 31, 31, 29, 31, 35, 30, 29, 31, 34, 30, 29, 23, 41, 32, 20, 30, 29, 34, 34, 29, 30, 31, 30, 30, 30, 33, 33, 26, 39, 12, 25, 19, 32, 30, 35, 28, 35, 33, 23, 33, 35, 36, 30, 38, 33, 41, 34, 35, 31, 33, 23, 30, 30, 36, 27, 32, 29, 34, 35, 41, 33, 31, 33, 29, 32, 32, 31, 31, 31, 34])\t[('XA', 'GL000217.1,-110754,76M,1;'), ('BD', 'NNNNNNNNNNNNNNNNNNNNNNNNNNNNNNNNNNNNNNNNNNNNNNNNNNNNNNNNNNNNNNNNNNNNNNNNNNNN'), ('MD', '76'), ('RG', '1'), ('BI', 'NNNNNNNNNNNNNNNNNNNNNNNNNNNNNNNNNNNNNNNNNNNNNNNNNNNNNNNNNNNNNNNNNNNNNNNNNNNN'), ('NM', 0), ('MQ', 27), ('AS', 76), ('XS', 71)]\n",
      "\n",
      "First read flag field:\n",
      "1187\n"
     ]
    }
   ],
   "source": [
    "first = 0\n",
    "\n",
    "for aligned_segment in alignment_file:\n",
    "    if first == 0:\n",
    "        print(f\"First read:\\n{aligned_segment}\\n\")\n",
    "        print(f\"First read flag field:\\n{aligned_segment.flag}\")\n",
    "        first += 1"
   ]
  },
  {
   "cell_type": "code",
   "execution_count": 31,
   "metadata": {},
   "outputs": [
    {
     "name": "stdout",
     "output_type": "stream",
     "text": [
      "Number of unmapped reads:\n",
      "17765\n",
      "\n",
      "Total number of reads:\n",
      "2921629\n",
      "\n",
      "Number of reads with mapping quality 0:\n",
      "126628\n",
      "\n",
      "Average mapping quality for all the reads:\n",
      "55.91379158681681\n",
      "\n",
      "Average mapping quality if reads with 0 mapp quality are filtered out:\n",
      "58.446975510921106\n"
     ]
    }
   ],
   "source": [
    "unmapped_reads = 0\n",
    "total_number_of_reads = 0\n",
    "mapping_quality_zero = 0\n",
    "mapping_quality_sum = 0\n",
    "mapping_quality_sum_nonzero = 0\n",
    "\n",
    "for aligned_segment in alignment_file:\n",
    "    if aligned_segment.is_unmapped: unmapped_reads += 1\n",
    "    total_number_of_reads += 1\n",
    "    if aligned_segment.mapping_quality == 0: mapping_quality_zero += 1\n",
    "    mapping_quality_sum += aligned_segment.mapping_quality\n",
    "    if aligned_segment.mapping_quality > 0: mapping_quality_sum_nonzero += aligned_segment.mapping_quality\n",
    "    \n",
    "print(f\"Number of unmapped reads:\\n{unmapped_reads}\\n\")\n",
    "print(f\"Total number of reads:\\n{total_number_of_reads}\\n\")\n",
    "print(f\"Number of reads with mapping quality 0:\\n{mapping_quality_zero}\\n\")\n",
    "print(f\"Average mapping quality for all the reads:\\n{mapping_quality_sum / total_number_of_reads}\\n\")\n",
    "print(f\"Average mapping quality if reads with 0 mapp quality are filtered out:\\n{mapping_quality_sum_nonzero / (total_number_of_reads - mapping_quality_zero)}\")"
   ]
  },
  {
   "cell_type": "code",
   "execution_count": null,
   "metadata": {},
   "outputs": [],
   "source": []
  }
 ],
 "metadata": {
  "kernelspec": {
   "display_name": "Python 3",
   "language": "python",
   "name": "python3"
  },
  "language_info": {
   "codemirror_mode": {
    "name": "ipython",
    "version": 3
   },
   "file_extension": ".py",
   "mimetype": "text/x-python",
   "name": "python",
   "nbconvert_exporter": "python",
   "pygments_lexer": "ipython3",
   "version": "3.8.3"
  }
 },
 "nbformat": 4,
 "nbformat_minor": 4
}
